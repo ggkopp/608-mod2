{
 "cells": [
  {
   "cell_type": "code",
   "execution_count": 2,
   "id": "d58efc87-f2b5-458f-a3ec-1f7e0fa2f15d",
   "metadata": {},
   "outputs": [
    {
     "name": "stdout",
     "output_type": "stream",
     "text": [
      "Passed\n"
     ]
    }
   ],
   "source": [
    "grade = 85\n",
    "\n",
    "if grade >= 60:\n",
    "    print('Passed')"
   ]
  },
  {
   "cell_type": "code",
   "execution_count": 4,
   "id": "b4db3f18-3fe3-40ca-b286-7fe9b4bec37f",
   "metadata": {},
   "outputs": [],
   "source": [
    "grade = 55\n",
    "\n",
    "if grade >=60:\n",
    "    Print('Passed')"
   ]
  },
  {
   "cell_type": "code",
   "execution_count": 6,
   "id": "1f867341-e98a-4187-a9c8-377c3018afd3",
   "metadata": {},
   "outputs": [
    {
     "name": "stdout",
     "output_type": "stream",
     "text": [
      "Passed\n"
     ]
    }
   ],
   "source": [
    "grade = 85\n",
    "\n",
    "if grade >= 60:\n",
    "    print('Passed')\n",
    "else:\n",
    "    Print('Failed')"
   ]
  },
  {
   "cell_type": "markdown",
   "id": "7cb55872-cca5-425e-9652-6413b78ca5e5",
   "metadata": {},
   "source": [
    "# 'If' and 'Else' Statments"
   ]
  },
  {
   "cell_type": "code",
   "execution_count": 7,
   "id": "9af1b039-1b26-481e-9100-e83537233f19",
   "metadata": {},
   "outputs": [
    {
     "name": "stdout",
     "output_type": "stream",
     "text": [
      "Failed\n",
      "You must take this course again\n"
     ]
    }
   ],
   "source": [
    "grade = 49\n",
    "\n",
    "if grade >= 60:\n",
    "    print('Passed')\n",
    "else:\n",
    "    print('Failed')\n",
    "    print('You must take this course again')"
   ]
  },
  {
   "cell_type": "markdown",
   "id": "91653df0-1e0e-4244-9e03-ce29ab64c4e5",
   "metadata": {},
   "source": [
    "# psuedocode "
   ]
  },
  {
   "cell_type": "code",
   "execution_count": 94,
   "id": "b35f2dbc-6b8e-444e-9729-5c872cc31bd9",
   "metadata": {},
   "outputs": [
    {
     "name": "stdin",
     "output_type": "stream",
     "text": [
      "Enter first integer:  10\n"
     ]
    }
   ],
   "source": [
    "number1 = int(input('Enter first integer: '))\n"
   ]
  },
  {
   "cell_type": "code",
   "execution_count": 95,
   "id": "89ad2799-2bd5-4a69-bd3c-199d7580ff2f",
   "metadata": {},
   "outputs": [
    {
     "name": "stdin",
     "output_type": "stream",
     "text": [
      "Enter second integer:  5\n"
     ]
    }
   ],
   "source": [
    "number2 = int(input('Enter second integer: '))"
   ]
  },
  {
   "cell_type": "code",
   "execution_count": 96,
   "id": "50e390db-73aa-4439-9bc1-0cf5957e9d2b",
   "metadata": {},
   "outputs": [],
   "source": [
    "total = number1 + number2"
   ]
  },
  {
   "cell_type": "code",
   "execution_count": 97,
   "id": "1a502cc7-cd36-44ea-9ae6-21aa508009df",
   "metadata": {},
   "outputs": [
    {
     "name": "stdout",
     "output_type": "stream",
     "text": [
      "The sum of 10 and 5 is 15\n"
     ]
    }
   ],
   "source": [
    "print('The sum of', number1, 'and', number2, 'is', total)"
   ]
  },
  {
   "cell_type": "markdown",
   "id": "d6361c25-678a-493e-a05a-d6449640ee6f",
   "metadata": {},
   "source": [
    "# 'If' 'Elif' 'Else' statments"
   ]
  },
  {
   "cell_type": "code",
   "execution_count": 98,
   "id": "992b2a5a-ba7c-455e-aca2-cbd536c0656b",
   "metadata": {},
   "outputs": [],
   "source": [
    "grade = 77"
   ]
  },
  {
   "cell_type": "code",
   "execution_count": 99,
   "id": "9eb17303-6b90-4d40-b54a-931693aed1d0",
   "metadata": {},
   "outputs": [
    {
     "name": "stdout",
     "output_type": "stream",
     "text": [
      "C\n"
     ]
    }
   ],
   "source": [
    "if grade >= 90:\n",
    "    print('A')\n",
    "elif grade >= 80:\n",
    "    print('B')\n",
    "elif grade >= 70:\n",
    "    print('C')\n",
    "elif grade >= 60:\n",
    "    print('D')\n",
    "else:\n",
    "    print('F')\n",
    "    "
   ]
  },
  {
   "cell_type": "markdown",
   "id": "de07dd04-6e13-4ab6-a032-eb82a89b0521",
   "metadata": {},
   "source": [
    "# 'While' Statment"
   ]
  },
  {
   "cell_type": "code",
   "execution_count": 100,
   "id": "48f61470-bb19-4216-a04d-49898b02800e",
   "metadata": {},
   "outputs": [],
   "source": [
    "product = 3"
   ]
  },
  {
   "cell_type": "code",
   "execution_count": 101,
   "id": "b01b6612-7f3f-4460-acf8-82a02c6d9834",
   "metadata": {},
   "outputs": [],
   "source": [
    "while product <= 50:\n",
    "    product = product *3\n",
    "    "
   ]
  },
  {
   "cell_type": "code",
   "execution_count": 102,
   "id": "eabb6f0a-b907-4be7-9a99-8d374005617a",
   "metadata": {},
   "outputs": [
    {
     "data": {
      "text/plain": [
       "81"
      ]
     },
     "execution_count": 102,
     "metadata": {},
     "output_type": "execute_result"
    }
   ],
   "source": [
    "product"
   ]
  },
  {
   "cell_type": "markdown",
   "id": "62371dd2-034e-4b16-81e2-0bd60e61cde2",
   "metadata": {},
   "source": [
    "# 'For' Statments"
   ]
  },
  {
   "cell_type": "code",
   "execution_count": 103,
   "id": "c74270d8-a064-4fb9-8b35-5a4ce26ff227",
   "metadata": {},
   "outputs": [
    {
     "name": "stdout",
     "output_type": "stream",
     "text": [
      "P r o g r a m m i n g "
     ]
    }
   ],
   "source": [
    "for character in 'Programming':\n",
    "    print(character, end=' ')"
   ]
  },
  {
   "cell_type": "markdown",
   "id": "54cdd7d2-ece4-4fa8-b866-75ecd9445ec9",
   "metadata": {},
   "source": [
    "# 'For' and 'Range' statments"
   ]
  },
  {
   "cell_type": "code",
   "execution_count": 104,
   "id": "4420fe76-1924-4274-b0b6-cbbabfc1ad29",
   "metadata": {},
   "outputs": [],
   "source": [
    "total = 0"
   ]
  },
  {
   "cell_type": "code",
   "execution_count": 105,
   "id": "f15b696b-df4f-4df9-95e5-03a8a031f3df",
   "metadata": {},
   "outputs": [],
   "source": [
    "for number in range(1000001):\n",
    "    total = total + number"
   ]
  },
  {
   "cell_type": "code",
   "execution_count": 106,
   "id": "6ff09290-8d9f-4c4b-b2c2-12a6b7616950",
   "metadata": {},
   "outputs": [
    {
     "data": {
      "text/plain": [
       "500000500000"
      ]
     },
     "execution_count": 106,
     "metadata": {},
     "output_type": "execute_result"
    }
   ],
   "source": [
    "total"
   ]
  },
  {
   "cell_type": "code",
   "execution_count": 107,
   "id": "07063e5c-9a0f-47d0-baab-0a7fbeb165ef",
   "metadata": {},
   "outputs": [
    {
     "name": "stdout",
     "output_type": "stream",
     "text": [
      "0 1 2 3 4 5 6 7 8 9 "
     ]
    }
   ],
   "source": [
    "for counter in range(10):\n",
    "    print(counter, end=' ')"
   ]
  },
  {
   "cell_type": "markdown",
   "id": "641da823-ab12-489e-8bad-a1615384c3a3",
   "metadata": {},
   "source": [
    "# Augmented assignments with 'For\" statement"
   ]
  },
  {
   "cell_type": "code",
   "execution_count": 108,
   "id": "213eb318-a775-4665-917f-792658c36132",
   "metadata": {},
   "outputs": [],
   "source": [
    "total = 0"
   ]
  },
  {
   "cell_type": "code",
   "execution_count": 109,
   "id": "2b551334-9ad8-4c08-97ff-69b840fddc7b",
   "metadata": {},
   "outputs": [],
   "source": [
    "for number in [1, 2, 3, 4, 5]:\n",
    "    total += number"
   ]
  },
  {
   "cell_type": "code",
   "execution_count": 110,
   "id": "048a657f-a96d-4491-822e-28166d3b02d2",
   "metadata": {},
   "outputs": [
    {
     "data": {
      "text/plain": [
       "15"
      ]
     },
     "execution_count": 110,
     "metadata": {},
     "output_type": "execute_result"
    }
   ],
   "source": [
    "total"
   ]
  },
  {
   "cell_type": "markdown",
   "id": "c658c1f9-45a9-47da-a278-b14a94be1db6",
   "metadata": {},
   "source": [
    "# Pseudocode for the algorithm 3.10"
   ]
  },
  {
   "cell_type": "markdown",
   "id": "1993f4f9-cf1c-48f7-97c4-dd6379e01614",
   "metadata": {},
   "source": [
    "set total to zero\n",
    "    set grade counter to zero\n",
    "    set grades to a list of the ten grades\n",
    "    \n",
    "for each grade in the grades list:\n",
    "    add the grade to the total\n",
    "    add one to the grade counter\n",
    "    \n",
    "set the class average to the total divided by the number of grades \n",
    "Display the class average "
   ]
  },
  {
   "cell_type": "code",
   "execution_count": 111,
   "id": "23386beb-2804-41b9-8259-7dad657a3827",
   "metadata": {},
   "outputs": [
    {
     "name": "stdout",
     "output_type": "stream",
     "text": [
      "Class average is 81.7\n"
     ]
    }
   ],
   "source": [
    "# fig03_01.py\n",
    "\"\"\"Class average program with sequence-controlled repetition.\"\"\"\n",
    "\n",
    "# initialization phase\n",
    "total = 0  # sum of grades\n",
    "grade_counter = 0\n",
    "grades = [98, 76, 71, 87, 83, 90, 57, 79, 82, 94]  # list of 10 grades\n",
    "\n",
    "# processing phase\n",
    "for grade in grades:  \n",
    "    total += grade  # add current grade to the running total\n",
    "    grade_counter += 1  # indicate that one more grade was processed\n",
    "\n",
    "# termination phase\n",
    "average = total / grade_counter\n",
    "print(f'Class average is {average}')"
   ]
  },
  {
   "cell_type": "markdown",
   "id": "4c22b064-5ea8-4eb0-9a05-4ef91350083e",
   "metadata": {},
   "source": [
    "# Sentinel-Controlled Pepetition 3.11"
   ]
  },
  {
   "cell_type": "code",
   "execution_count": 112,
   "id": "797066c4-7ead-4035-8814-4f2005cf19fe",
   "metadata": {},
   "outputs": [
    {
     "name": "stdin",
     "output_type": "stream",
     "text": [
      "Enter grade, -1 to end:  99\n",
      "Enter grade, -1 to end:  88\n",
      "Enter grade, -1 to end:  72\n",
      "Enter grade, -1 to end:  -1\n"
     ]
    },
    {
     "name": "stdout",
     "output_type": "stream",
     "text": [
      "Class average is 86.33\n"
     ]
    }
   ],
   "source": [
    "# fig03_02.py\n",
    "\"\"\"Class average program with sentinel-controlled iteration.\"\"\"\n",
    "\n",
    "# initialization phase\n",
    "total = 0  # sum of grades\n",
    "grade_counter = 0  # number of grades entered\n",
    "\n",
    "# processing phase\n",
    "grade = int(input('Enter grade, -1 to end: '))  # get one grade\n",
    "\n",
    "while grade != -1:\n",
    "    total += grade\n",
    "    grade_counter += 1\n",
    "    grade = int(input('Enter grade, -1 to end: '))\n",
    "\n",
    "# termination phase\n",
    "if grade_counter != 0:\n",
    "    average = total / grade_counter\n",
    "    print(f'Class average is {average:.2f}')\n",
    "else:\n",
    "    print('No grades were entered')"
   ]
  },
  {
   "cell_type": "markdown",
   "id": "9118c845-ae83-4655-88c2-b78db19b684c",
   "metadata": {},
   "source": [
    "# Nested Controll Statements 3.12"
   ]
  },
  {
   "cell_type": "code",
   "execution_count": 113,
   "id": "fa93352a-2897-4d3d-b019-62ad14cef38d",
   "metadata": {},
   "outputs": [
    {
     "name": "stdin",
     "output_type": "stream",
     "text": [
      "Enter result (1=pass, 2=fail):  1\n",
      "Enter result (1=pass, 2=fail):  2\n",
      "Enter result (1=pass, 2=fail):  2\n",
      "Enter result (1=pass, 2=fail):  1\n",
      "Enter result (1=pass, 2=fail):  1\n",
      "Enter result (1=pass, 2=fail):  1\n",
      "Enter result (1=pass, 2=fail):  2\n",
      "Enter result (1=pass, 2=fail):  1\n",
      "Enter result (1=pass, 2=fail):  1\n",
      "Enter result (1=pass, 2=fail):  2\n"
     ]
    },
    {
     "name": "stdout",
     "output_type": "stream",
     "text": [
      "Passed: 6\n",
      "Failed: 4\n"
     ]
    }
   ],
   "source": [
    "# fig03_03.py\n",
    "\"\"\"Using nested control statements to analyze examination results.\"\"\"\n",
    "\n",
    "# initialize variables\n",
    "passes = 0  # number of passes\n",
    "failures = 0  # number of failures\n",
    "\n",
    "# process 10 students\n",
    "for student in range(10):\n",
    "    # get one exam result\n",
    "    result = int(input('Enter result (1=pass, 2=fail): '))\n",
    "\n",
    "    if result == 1:\n",
    "        passes = passes + 1\n",
    "    else:\n",
    "        failures = failures + 1\n",
    "\n",
    "# termination phase\n",
    "print('Passed:', passes)\n",
    "print('Failed:', failures)\n",
    "\n",
    "if passes > 8:\n",
    "    print('Bonus to instructor')"
   ]
  },
  {
   "cell_type": "markdown",
   "id": "57ed3d6b-dd9d-4917-a441-768c83214a82",
   "metadata": {},
   "source": [
    "# Range a deeper look 3.13 (-2 makes it decreminate)"
   ]
  },
  {
   "cell_type": "code",
   "execution_count": 114,
   "id": "43d9cdc0-9dc3-4346-bff7-76ec1b538286",
   "metadata": {},
   "outputs": [
    {
     "name": "stdout",
     "output_type": "stream",
     "text": [
      "10 8 6 4 2 "
     ]
    }
   ],
   "source": [
    "for number in range(10, 0, -2):\n",
    "    print(number, end=' ')"
   ]
  },
  {
   "cell_type": "code",
   "execution_count": 115,
   "id": "f36c8626-83ad-412a-aae0-0bb9e0286949",
   "metadata": {},
   "outputs": [
    {
     "name": "stdout",
     "output_type": "stream",
     "text": [
      "99 88 77 66 55 44 33 22 11 0 "
     ]
    }
   ],
   "source": [
    "for number in range(99, -1, -11):\n",
    "    print(number, end=' ')\n"
   ]
  },
  {
   "cell_type": "markdown",
   "id": "b5fec4cc-9e4a-488e-bc48-fcbb939e3005",
   "metadata": {},
   "source": [
    "# Decimals approx vs exact 3.14"
   ]
  },
  {
   "cell_type": "code",
   "execution_count": 116,
   "id": "ef26f2f0-2719-4a8b-aa77-1c68a45481f3",
   "metadata": {},
   "outputs": [],
   "source": [
    "amount = 112.31"
   ]
  },
  {
   "cell_type": "code",
   "execution_count": 117,
   "id": "fbf1bddb-16e3-455b-8d23-b05978e312bc",
   "metadata": {},
   "outputs": [
    {
     "name": "stdout",
     "output_type": "stream",
     "text": [
      "112.31\n"
     ]
    }
   ],
   "source": [
    "print(amount)"
   ]
  },
  {
   "cell_type": "code",
   "execution_count": 118,
   "id": "367e942f-6254-42b8-bbb3-5f0facaa76da",
   "metadata": {},
   "outputs": [],
   "source": [
    "amount = 112.31"
   ]
  },
  {
   "cell_type": "code",
   "execution_count": 119,
   "id": "2b28926e-b2e4-44a5-a284-dc760d72370d",
   "metadata": {},
   "outputs": [
    {
     "name": "stdout",
     "output_type": "stream",
     "text": [
      "112.31000000000000227374\n"
     ]
    }
   ],
   "source": [
    "print(f'{amount:.20f}')"
   ]
  },
  {
   "cell_type": "markdown",
   "id": "7361784d-3f1d-4a2c-a7f6-82826b794ae4",
   "metadata": {},
   "source": [
    "# Decimal Download + Creating Decimals 3.14"
   ]
  },
  {
   "cell_type": "code",
   "execution_count": 120,
   "id": "a24e4b60-623b-442a-8efd-140ad4ae96e2",
   "metadata": {},
   "outputs": [],
   "source": [
    "import decimal"
   ]
  },
  {
   "cell_type": "code",
   "execution_count": 121,
   "id": "a8ccff64-2485-417b-be2c-9ac5ee551597",
   "metadata": {},
   "outputs": [],
   "source": [
    "from decimal import Decimal"
   ]
  },
  {
   "cell_type": "code",
   "execution_count": 122,
   "id": "203544e2-bee6-451e-a496-d2ca8ff912ab",
   "metadata": {},
   "outputs": [],
   "source": [
    "principal = Decimal('1000.00')"
   ]
  },
  {
   "cell_type": "code",
   "execution_count": 123,
   "id": "1f1681f4-1888-4b69-94da-7711f412bdfa",
   "metadata": {},
   "outputs": [
    {
     "data": {
      "text/plain": [
       "Decimal('1000.00')"
      ]
     },
     "execution_count": 123,
     "metadata": {},
     "output_type": "execute_result"
    }
   ],
   "source": [
    "principal"
   ]
  },
  {
   "cell_type": "code",
   "execution_count": 124,
   "id": "8cfe4cae-5b5a-48a1-99f2-b4469292430a",
   "metadata": {},
   "outputs": [],
   "source": [
    "rate = Decimal('0.05')"
   ]
  },
  {
   "cell_type": "code",
   "execution_count": 125,
   "id": "68cd7469-9910-4275-961c-2360cb22d68b",
   "metadata": {},
   "outputs": [
    {
     "data": {
      "text/plain": [
       "Decimal('0.05')"
      ]
     },
     "execution_count": 125,
     "metadata": {},
     "output_type": "execute_result"
    }
   ],
   "source": [
    "rate"
   ]
  },
  {
   "cell_type": "markdown",
   "id": "09fa8eda-e930-44b2-9365-bd62cf93fb44",
   "metadata": {},
   "source": [
    "# Calculating Compound Interest 3.14 (a = p(1 + r)**n)"
   ]
  },
  {
   "cell_type": "code",
   "execution_count": 126,
   "id": "fabab18b-a9ce-4037-b28b-7c13e875cc07",
   "metadata": {},
   "outputs": [],
   "source": [
    "principal = Decimal('1000.00')"
   ]
  },
  {
   "cell_type": "code",
   "execution_count": 127,
   "id": "a54ce2b3-1007-4c7e-b0bd-4d76305c7b66",
   "metadata": {},
   "outputs": [],
   "source": [
    "rate = Decimal('0.05')"
   ]
  },
  {
   "cell_type": "code",
   "execution_count": 128,
   "id": "d936742f-fcdc-48f1-a7d4-5a00045218b6",
   "metadata": {},
   "outputs": [
    {
     "name": "stdout",
     "output_type": "stream",
     "text": [
      " 1   1050.00\n",
      " 2   1102.50\n",
      " 3   1157.62\n",
      " 4   1215.51\n",
      " 5   1276.28\n",
      " 6   1340.10\n",
      " 7   1407.10\n",
      " 8   1477.46\n",
      " 9   1551.33\n",
      "10   1628.89\n"
     ]
    }
   ],
   "source": [
    "for year in range(1, 11):\n",
    "    amount = principal * (1 + rate) ** year\n",
    "    print(f'{year:>2}{amount:>10.2f}')"
   ]
  },
  {
   "cell_type": "markdown",
   "id": "e3d097dd-0e5e-4ac4-982f-b42299780e2c",
   "metadata": {},
   "source": [
    "# Break and Continue Statments 3.15"
   ]
  },
  {
   "cell_type": "code",
   "execution_count": 129,
   "id": "02450195-2c5d-4081-b4eb-933270b186b1",
   "metadata": {},
   "outputs": [
    {
     "name": "stdout",
     "output_type": "stream",
     "text": [
      "0 1 2 3 4 6 7 8 9 "
     ]
    }
   ],
   "source": [
    "for number in range(10):\n",
    "    if number == 5:\n",
    "        continue\n",
    "    print(number, end=' ')"
   ]
  },
  {
   "cell_type": "code",
   "execution_count": 130,
   "id": "f64c1dff-7407-48f6-8416-e94863fedcb9",
   "metadata": {},
   "outputs": [
    {
     "name": "stdout",
     "output_type": "stream",
     "text": [
      "0 1 2 3 4 5 6 7 8 9 "
     ]
    }
   ],
   "source": [
    "for number in range(100):\n",
    "    if number == 10:\n",
    "        break\n",
    "    print(number, end=' ')"
   ]
  },
  {
   "cell_type": "markdown",
   "id": "53a28364-2a11-477e-a5cd-63c99a6a84ff",
   "metadata": {},
   "source": [
    "# Boolean Operators and, or and not 3.16"
   ]
  },
  {
   "cell_type": "code",
   "execution_count": 131,
   "id": "8232b85e-7301-4a8d-80f6-b768e6159519",
   "metadata": {},
   "outputs": [],
   "source": [
    "gender = 'Female'"
   ]
  },
  {
   "cell_type": "code",
   "execution_count": 132,
   "id": "794155f5-c2d9-4ecf-ac16-795b535fc199",
   "metadata": {},
   "outputs": [],
   "source": [
    "age = 70"
   ]
  },
  {
   "cell_type": "code",
   "execution_count": 133,
   "id": "2dc07ba8-a412-44e4-981e-acf77153fb9e",
   "metadata": {},
   "outputs": [
    {
     "name": "stdout",
     "output_type": "stream",
     "text": [
      "Senior female\n"
     ]
    }
   ],
   "source": [
    "if gender == 'Female' and age >= 65:\n",
    "    print('Senior female')\n",
    "    "
   ]
  },
  {
   "cell_type": "code",
   "execution_count": 134,
   "id": "60129e25-05c8-4f93-bde1-9fa0232c5002",
   "metadata": {},
   "outputs": [],
   "source": [
    "semester_average = 83"
   ]
  },
  {
   "cell_type": "code",
   "execution_count": 135,
   "id": "6fe241d7-3ece-4257-8ada-9ee3988689d8",
   "metadata": {},
   "outputs": [],
   "source": [
    "final_exam = 95"
   ]
  },
  {
   "cell_type": "code",
   "execution_count": 136,
   "id": "d3dfc3a3-5211-45b5-bb53-bc901cd59db9",
   "metadata": {},
   "outputs": [
    {
     "name": "stdout",
     "output_type": "stream",
     "text": [
      "Student gets an A\n"
     ]
    }
   ],
   "source": [
    "if semester_average >= 90 or final_exam >= 90:\n",
    "    print('Student gets an A')"
   ]
  },
  {
   "cell_type": "markdown",
   "id": "97328c52-d84c-444c-84a0-fe191a69271b",
   "metadata": {},
   "source": [
    "# 6 Calculate Measures of CEntral Tendency - Native Python"
   ]
  },
  {
   "cell_type": "code",
   "execution_count": 137,
   "id": "7020f11e-ce20-4703-a0c3-d97147806aeb",
   "metadata": {},
   "outputs": [],
   "source": [
    "values = [47, 95, 88, 73, 88, 84]"
   ]
  },
  {
   "cell_type": "code",
   "execution_count": 138,
   "id": "b0496d9a-8113-4457-b47a-827100ce08e7",
   "metadata": {},
   "outputs": [
    {
     "data": {
      "text/plain": [
       "6"
      ]
     },
     "execution_count": 138,
     "metadata": {},
     "output_type": "execute_result"
    }
   ],
   "source": [
    "len(values)"
   ]
  },
  {
   "cell_type": "code",
   "execution_count": 139,
   "id": "0208a4ca-0f79-4501-8ca6-f992b92fe8ba",
   "metadata": {},
   "outputs": [
    {
     "data": {
      "text/plain": [
       "475"
      ]
     },
     "execution_count": 139,
     "metadata": {},
     "output_type": "execute_result"
    }
   ],
   "source": [
    "sum(values)"
   ]
  },
  {
   "cell_type": "code",
   "execution_count": 140,
   "id": "0e08d70e-3426-4b9d-a7a4-fae9669b3b72",
   "metadata": {},
   "outputs": [
    {
     "data": {
      "text/plain": [
       "79.16666666666667"
      ]
     },
     "execution_count": 140,
     "metadata": {},
     "output_type": "execute_result"
    }
   ],
   "source": [
    "sum(values)/len(values)"
   ]
  },
  {
   "cell_type": "markdown",
   "id": "5e5288ce-9417-43b1-aabd-69c042463965",
   "metadata": {},
   "source": [
    "# 7 Calculate Measures oif Central Tendency"
   ]
  },
  {
   "cell_type": "code",
   "execution_count": 141,
   "id": "07bbe1fe-1e0c-4de6-aa6e-94101270ffe7",
   "metadata": {},
   "outputs": [],
   "source": [
    "import statistics"
   ]
  },
  {
   "cell_type": "code",
   "execution_count": 142,
   "id": "4f4725f1-22cd-4fd2-a8b6-9a2b64d1d493",
   "metadata": {},
   "outputs": [],
   "source": [
    "values = [47, 95, 88, 73, 88, 84]"
   ]
  },
  {
   "cell_type": "code",
   "execution_count": 143,
   "id": "1ccd7d98-be7c-44ab-8d21-547fb93b01d7",
   "metadata": {},
   "outputs": [
    {
     "data": {
      "text/plain": [
       "79.16666666666667"
      ]
     },
     "execution_count": 143,
     "metadata": {},
     "output_type": "execute_result"
    }
   ],
   "source": [
    "statistics.mean(values)"
   ]
  },
  {
   "cell_type": "code",
   "execution_count": 144,
   "id": "0ef9200e-ad45-4259-9f40-be29cf3b3ce4",
   "metadata": {},
   "outputs": [
    {
     "data": {
      "text/plain": [
       "86.0"
      ]
     },
     "execution_count": 144,
     "metadata": {},
     "output_type": "execute_result"
    }
   ],
   "source": [
    "statistics.median(values)"
   ]
  },
  {
   "cell_type": "code",
   "execution_count": 145,
   "id": "f8b5316d-d096-49b8-a70d-3f0456511322",
   "metadata": {},
   "outputs": [
    {
     "data": {
      "text/plain": [
       "88"
      ]
     },
     "execution_count": 145,
     "metadata": {},
     "output_type": "execute_result"
    }
   ],
   "source": [
    "statistics.mode(values)"
   ]
  },
  {
   "cell_type": "markdown",
   "id": "4ee477bf-c716-4d9f-9c49-3bc472f29682",
   "metadata": {},
   "source": [
    "# 8 Custom Central Tendency"
   ]
  },
  {
   "cell_type": "code",
   "execution_count": 146,
   "id": "5b0f094b-89f5-43f1-b787-c631c4642b11",
   "metadata": {},
   "outputs": [],
   "source": [
    "values = [1, 22, 13, 12, 89, 100, 200, 500, 10, 10, 11, 37, 59, 58, 21, 24, 82, 99, 101, 100, 13, 78, 77, 76]"
   ]
  },
  {
   "cell_type": "code",
   "execution_count": 147,
   "id": "7a8dd71b-db33-47c4-ac5a-4ab16ab82460",
   "metadata": {},
   "outputs": [
    {
     "data": {
      "text/plain": [
       "24"
      ]
     },
     "execution_count": 147,
     "metadata": {},
     "output_type": "execute_result"
    }
   ],
   "source": [
    "len(values)"
   ]
  },
  {
   "cell_type": "code",
   "execution_count": 148,
   "id": "029bef16-e44d-422e-8694-f034c1bcb77d",
   "metadata": {},
   "outputs": [
    {
     "data": {
      "text/plain": [
       "1793"
      ]
     },
     "execution_count": 148,
     "metadata": {},
     "output_type": "execute_result"
    }
   ],
   "source": [
    "sum(values)"
   ]
  },
  {
   "cell_type": "code",
   "execution_count": 149,
   "id": "289e8900-38f4-43cf-94af-dc47344cccc2",
   "metadata": {},
   "outputs": [
    {
     "data": {
      "text/plain": [
       "74.70833333333333"
      ]
     },
     "execution_count": 149,
     "metadata": {},
     "output_type": "execute_result"
    }
   ],
   "source": [
    "sum(values)/len(values)"
   ]
  },
  {
   "cell_type": "code",
   "execution_count": 150,
   "id": "ef1e86b7-9441-477b-8b4d-7e0301fce052",
   "metadata": {},
   "outputs": [
    {
     "data": {
      "text/plain": [
       "58.5"
      ]
     },
     "execution_count": 150,
     "metadata": {},
     "output_type": "execute_result"
    }
   ],
   "source": [
    "statistics.median(values)"
   ]
  },
  {
   "cell_type": "code",
   "execution_count": 151,
   "id": "3a881238-0fb6-49d3-ace6-88ef828efb94",
   "metadata": {},
   "outputs": [
    {
     "data": {
      "text/plain": [
       "13"
      ]
     },
     "execution_count": 151,
     "metadata": {},
     "output_type": "execute_result"
    }
   ],
   "source": [
    "statistics.mode(values)"
   ]
  }
 ],
 "metadata": {
  "kernelspec": {
   "display_name": "Python 3 (ipykernel)",
   "language": "python",
   "name": "python3"
  },
  "language_info": {
   "codemirror_mode": {
    "name": "ipython",
    "version": 3
   },
   "file_extension": ".py",
   "mimetype": "text/x-python",
   "name": "python",
   "nbconvert_exporter": "python",
   "pygments_lexer": "ipython3",
   "version": "3.9.12"
  }
 },
 "nbformat": 4,
 "nbformat_minor": 5
}
