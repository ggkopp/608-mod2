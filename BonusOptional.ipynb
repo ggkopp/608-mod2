{
 "cells": [
  {
   "cell_type": "code",
   "execution_count": 5,
   "id": "cb1ad6f7-59f9-4fe8-acee-3340bdcea851",
   "metadata": {},
   "outputs": [],
   "source": [
    "import random\n",
    "    "
   ]
  },
  {
   "cell_type": "code",
   "execution_count": 11,
   "id": "145e83a1-e6f2-4df5-a4ba-76250edbd960",
   "metadata": {},
   "outputs": [],
   "source": [
    "res = random.sample(range(1, 1000), 100)"
   ]
  },
  {
   "cell_type": "code",
   "execution_count": 12,
   "id": "abff960d-f8bd-4581-9e78-97e85223ef53",
   "metadata": {},
   "outputs": [
    {
     "name": "stdout",
     "output_type": "stream",
     "text": [
      "Random number list is : [494, 444, 283, 81, 231, 158, 56, 463, 670, 949, 798, 700, 289, 736, 965, 851, 699, 213, 58, 521, 65, 128, 235, 616, 251, 141, 740, 63, 6, 534, 623, 29, 720, 377, 559, 389, 125, 491, 79, 844, 456, 361, 315, 865, 839, 253, 23, 298, 665, 305, 609, 434, 303, 489, 240, 152, 677, 137, 409, 783, 302, 309, 139, 683, 693, 624, 153, 722, 564, 737, 474, 222, 826, 294, 220, 388, 599, 762, 688, 680, 488, 794, 920, 18, 758, 402, 917, 60, 181, 356, 206, 632, 869, 195, 170, 66, 126, 877, 714, 605]\n"
     ]
    }
   ],
   "source": [
    "print (\"Random number list is : \" + str(res))"
   ]
  },
  {
   "cell_type": "code",
   "execution_count": 19,
   "id": "313129ee-6b5e-4b0c-9bd1-e356d1e4811f",
   "metadata": {},
   "outputs": [],
   "source": [
    "values = [494, 444, 283, 81, 231, 158, 56, 463, 670, 949, 798, 700, 289, 736, 965, 851, 699, 213, 58, \n",
    "         521, 65, 128, 235, 616, 251, 141, 740, 63, 6, 534, 623, 29, 720, 377, 559, 389, 125, 491, 79, \n",
    "         844, 456, 361, 315, 865, 839, 253, 23, 298, 665, 305, 609, 434, 303, 489, 240, 152, 677, 137, \n",
    "         409, 783, 302, 309, 139, 683, 693, 624, 153, 722, 564, 737, 474, 222, 826, 294, 220, 388, 599, 762, 688, 680, 488, \n",
    "         794, 920, 18, 758, 402, 917, 60, 181, 356, 206, 632, 869, 195, 170, 66, 126, 877, 714, 605]"
   ]
  },
  {
   "cell_type": "code",
   "execution_count": 20,
   "id": "2c02c6f1-6080-453f-a01f-287db213d58c",
   "metadata": {},
   "outputs": [
    {
     "data": {
      "text/plain": [
       "100"
      ]
     },
     "execution_count": 20,
     "metadata": {},
     "output_type": "execute_result"
    }
   ],
   "source": [
    "len(values)"
   ]
  },
  {
   "cell_type": "code",
   "execution_count": 24,
   "id": "872ef4b6-ea79-48df-b62e-7fdeac66afad",
   "metadata": {},
   "outputs": [
    {
     "data": {
      "text/plain": [
       "44720"
      ]
     },
     "execution_count": 24,
     "metadata": {},
     "output_type": "execute_result"
    }
   ],
   "source": [
    "sum(values)"
   ]
  },
  {
   "cell_type": "code",
   "execution_count": 21,
   "id": "ce626ccc-fcc7-48eb-a137-dc3d19486ea6",
   "metadata": {},
   "outputs": [
    {
     "data": {
      "text/plain": [
       "447.2"
      ]
     },
     "execution_count": 21,
     "metadata": {},
     "output_type": "execute_result"
    }
   ],
   "source": [
    "# mean\n",
    "sum(values)/len(values)"
   ]
  },
  {
   "cell_type": "code",
   "execution_count": 17,
   "id": "2291ff22-bd6d-4d71-87c8-0579dc7b601b",
   "metadata": {},
   "outputs": [],
   "source": [
    "import statistics"
   ]
  },
  {
   "cell_type": "code",
   "execution_count": 22,
   "id": "f3c0ca79-9821-49bf-9e4e-4caa396d05b6",
   "metadata": {},
   "outputs": [
    {
     "data": {
      "text/plain": [
       "439.0"
      ]
     },
     "execution_count": 22,
     "metadata": {},
     "output_type": "execute_result"
    }
   ],
   "source": [
    "statistics.median(values)"
   ]
  },
  {
   "cell_type": "code",
   "execution_count": 23,
   "id": "1d5c31e2-5c84-459f-8b90-06437eaafad0",
   "metadata": {},
   "outputs": [
    {
     "data": {
      "text/plain": [
       "494"
      ]
     },
     "execution_count": 23,
     "metadata": {},
     "output_type": "execute_result"
    }
   ],
   "source": [
    "statistics.mode(values)"
   ]
  }
 ],
 "metadata": {
  "kernelspec": {
   "display_name": "Python 3 (ipykernel)",
   "language": "python",
   "name": "python3"
  },
  "language_info": {
   "codemirror_mode": {
    "name": "ipython",
    "version": 3
   },
   "file_extension": ".py",
   "mimetype": "text/x-python",
   "name": "python",
   "nbconvert_exporter": "python",
   "pygments_lexer": "ipython3",
   "version": "3.9.12"
  }
 },
 "nbformat": 4,
 "nbformat_minor": 5
}
